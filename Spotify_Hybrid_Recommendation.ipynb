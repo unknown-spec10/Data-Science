{
  "nbformat": 4,
  "nbformat_minor": 0,
  "metadata": {
    "colab": {
      "provenance": [],
      "authorship_tag": "ABX9TyP5Nlz9j1QDpOqMrMRvvxdD",
      "include_colab_link": true
    },
    "kernelspec": {
      "name": "python3",
      "display_name": "Python 3"
    },
    "language_info": {
      "name": "python"
    }
  },
  "cells": [
    {
      "cell_type": "markdown",
      "metadata": {
        "id": "view-in-github",
        "colab_type": "text"
      },
      "source": [
        "<a href=\"https://colab.research.google.com/github/unknown-spec10/Data-Science/blob/main/Spotify_Hybrid_Recommendation.ipynb\" target=\"_parent\"><img src=\"https://colab.research.google.com/assets/colab-badge.svg\" alt=\"Open In Colab\"/></a>"
      ]
    },
    {
      "cell_type": "code",
      "execution_count": null,
      "metadata": {
        "colab": {
          "base_uri": "https://localhost:8080/"
        },
        "id": "lORL_iR_EF2B",
        "outputId": "0331d5d7-b5b6-412a-ade2-ea10dd114fda"
      },
      "outputs": [
        {
          "output_type": "stream",
          "name": "stdout",
          "text": [
            "Requirement already satisfied: kagglehub in /usr/local/lib/python3.11/dist-packages (0.3.12)\n",
            "Requirement already satisfied: packaging in /usr/local/lib/python3.11/dist-packages (from kagglehub) (24.2)\n",
            "Requirement already satisfied: pyyaml in /usr/local/lib/python3.11/dist-packages (from kagglehub) (6.0.2)\n",
            "Requirement already satisfied: requests in /usr/local/lib/python3.11/dist-packages (from kagglehub) (2.32.3)\n",
            "Requirement already satisfied: tqdm in /usr/local/lib/python3.11/dist-packages (from kagglehub) (4.67.1)\n",
            "Requirement already satisfied: charset-normalizer<4,>=2 in /usr/local/lib/python3.11/dist-packages (from requests->kagglehub) (3.4.2)\n",
            "Requirement already satisfied: idna<4,>=2.5 in /usr/local/lib/python3.11/dist-packages (from requests->kagglehub) (3.10)\n",
            "Requirement already satisfied: urllib3<3,>=1.21.1 in /usr/local/lib/python3.11/dist-packages (from requests->kagglehub) (2.4.0)\n",
            "Requirement already satisfied: certifi>=2017.4.17 in /usr/local/lib/python3.11/dist-packages (from requests->kagglehub) (2025.4.26)\n"
          ]
        }
      ],
      "source": [
        "!pip install kagglehub --upgrade"
      ]
    },
    {
      "cell_type": "code",
      "source": [
        "import kagglehub"
      ],
      "metadata": {
        "id": "Ww3zsR8oEKX_"
      },
      "execution_count": null,
      "outputs": []
    },
    {
      "cell_type": "code",
      "source": [
        "import os\n",
        "from pathlib import Path\n",
        "import pandas as pd\n",
        "import numpy as np\n",
        "import matplotlib.pyplot as plt\n",
        "import seaborn as sns\n",
        "from sklearn.compose import ColumnTransformer\n",
        "from sklearn.feature_extraction.text import TfidfVectorizer\n",
        "from sklearn.preprocessing import OneHotEncoder, StandardScaler\n",
        "from sklearn.pipeline import make_pipeline\n",
        "from scipy.sparse import csr_matrix\n",
        "from sklearn.metrics.pairwise import cosine_similarity"
      ],
      "metadata": {
        "id": "e9pTDH03EKc5"
      },
      "execution_count": null,
      "outputs": []
    },
    {
      "cell_type": "code",
      "source": [
        "data_path = Path(\"/root/.cache/kagglehub/datasets/undefinenull/million-song-dataset-spotify-lastfm/versions/1\")\n",
        "\n",
        "\n",
        "songs_data_path = data_path / 'Music Info.csv'\n",
        "users_data_path = data_path / 'User Listening History.csv'"
      ],
      "metadata": {
        "id": "hDVE2dw7EKfm"
      },
      "execution_count": null,
      "outputs": []
    },
    {
      "cell_type": "code",
      "source": [
        "#Load data\n",
        "df_songs = pd.read_csv(songs_data_path)# content data\n",
        "df_inter = pd.read_csv(users_data_path)# collaborative data"
      ],
      "metadata": {
        "id": "-zivdVWGJtz9"
      },
      "execution_count": null,
      "outputs": []
    },
    {
      "cell_type": "code",
      "source": [
        "df_inter.shape"
      ],
      "metadata": {
        "colab": {
          "base_uri": "https://localhost:8080/"
        },
        "id": "Qn_S84xtcCtx",
        "outputId": "c3694393-1d94-4b25-b978-c173b0341170"
      },
      "execution_count": null,
      "outputs": [
        {
          "output_type": "execute_result",
          "data": {
            "text/plain": [
              "(9711301, 5)"
            ]
          },
          "metadata": {},
          "execution_count": 64
        }
      ]
    },
    {
      "cell_type": "code",
      "source": [
        "# Index encoding\n",
        "df_songs[\"track_idx\"] = df_songs[\"track_id\"].astype(\"category\").cat.codes\n",
        "df_inter[\"track_idx\"] = df_inter[\"track_id\"].astype(\"category\").cat.codes\n",
        "df_inter[\"user_idx\"] = df_inter[\"user_id\"].astype(\"category\").cat.codes"
      ],
      "metadata": {
        "id": "0dpjZ2u_Emym"
      },
      "execution_count": null,
      "outputs": []
    },
    {
      "cell_type": "code",
      "source": [
        "# keeping index mappings\n",
        "track2idx = dict(zip(df_songs.track_id, df_songs.track_idx))\n",
        "idx2track = {v: k for k, v in track2idx.items()}"
      ],
      "metadata": {
        "id": "CVTZKEuPEmsX"
      },
      "execution_count": null,
      "outputs": []
    },
    {
      "cell_type": "markdown",
      "source": [
        "#Content Preprorocessing:-)"
      ],
      "metadata": {
        "id": "J4toJbYmPKTb"
      }
    },
    {
      "cell_type": "code",
      "source": [
        "# Print the column names to identify the correct artist column name\n",
        "print(df_songs.columns)"
      ],
      "metadata": {
        "colab": {
          "base_uri": "https://localhost:8080/"
        },
        "id": "AG8pkM8aMLX4",
        "outputId": "2362b9a6-5c9f-4193-8c6e-3a0cfcfe9a06"
      },
      "execution_count": null,
      "outputs": [
        {
          "output_type": "stream",
          "name": "stdout",
          "text": [
            "Index(['track_id', 'name', 'artist', 'spotify_preview_url', 'spotify_id',\n",
            "       'tags', 'genre', 'year', 'duration_ms', 'danceability', 'energy', 'key',\n",
            "       'loudness', 'mode', 'speechiness', 'acousticness', 'instrumentalness',\n",
            "       'liveness', 'valence', 'tempo', 'time_signature', 'track_idx'],\n",
            "      dtype='object')\n"
          ]
        }
      ]
    },
    {
      "cell_type": "code",
      "source": [
        "def get_content_matrix(df_songs):\n",
        "    # Columns used in content profile\n",
        "    content_cols = [\"artist\", \"tags\", \"year\", \"danceability\", \"energy\", \"valence\", \"tempo\"]\n",
        "    df_features = df_songs[content_cols].copy()\n",
        "\n",
        "    # Fill NaN values in 'tags' with an empty string\n",
        "    df_features['tags'] = df_features['tags'].fillna('')\n",
        "\n",
        "    # Pipeline\n",
        "    col_tf = ColumnTransformer([\n",
        "        (\"artist\", OneHotEncoder(handle_unknown='ignore'), [\"artist\"]),\n",
        "        (\"tags\", TfidfVectorizer(max_features=3000), \"tags\"),\n",
        "        (\"year\", OneHotEncoder(handle_unknown='ignore'), [\"year\"]),\n",
        "        (\"features\", StandardScaler(), [\"danceability\", \"energy\", \"valence\", \"tempo\"])\n",
        "    ])\n",
        "    X_content = col_tf.fit_transform(df_features)\n",
        "    return X_content, col_tf"
      ],
      "metadata": {
        "id": "PZJuzgOrEmpm"
      },
      "execution_count": null,
      "outputs": []
    },
    {
      "cell_type": "markdown",
      "source": [
        "#Collaborative Similarity:-)"
      ],
      "metadata": {
        "id": "Gsqgd4S2Pdee"
      }
    },
    {
      "cell_type": "code",
      "source": [
        "def build_collaborative_matrix(df_inter, n_items, n_users):\n",
        "    R = csr_matrix((df_inter.playcount, (df_inter.track_idx, df_inter.user_idx)), shape=(n_items, n_users))\n",
        "    S_collab = cosine_similarity(R, dense_output=False)\n",
        "    return R, S_collab"
      ],
      "metadata": {
        "id": "zj5ip7vMEmkj"
      },
      "execution_count": null,
      "outputs": []
    },
    {
      "cell_type": "markdown",
      "source": [
        "#Hybrid Recommender:-)"
      ],
      "metadata": {
        "id": "3LSPXmW8P05Y"
      }
    },
    {
      "cell_type": "code",
      "source": [
        "def hybrid_recommend(seed_track_id, X_content, S_collab, α=0.7, k=10):\n",
        "    if seed_track_id not in track2idx:\n",
        "        return []\n",
        "    i = track2idx[seed_track_id]\n",
        "\n",
        "    # Collaborative score\n",
        "    collab_scores = S_collab[i].toarray().ravel()\n",
        "\n",
        "    # Content score\n",
        "    content_scores = cosine_similarity(X_content[i], X_content).ravel()\n",
        "\n",
        "    # Hybrid\n",
        "    hybrid = α * collab_scores + (1 - α) * content_scores\n",
        "\n",
        "    # Get top-k indices (excluding self)\n",
        "    top_idx = np.argsort(hybrid)[::-1]\n",
        "    top_idx = [x for x in top_idx if x != i][:k]\n",
        "    return [idx2track[j] for j in top_idx]"
      ],
      "metadata": {
        "id": "gA0zEqMqEmhy"
      },
      "execution_count": null,
      "outputs": []
    },
    {
      "cell_type": "markdown",
      "source": [
        "#Testing:-("
      ],
      "metadata": {
        "id": "8XJXaJKxQ9ql"
      }
    },
    {
      "cell_type": "code",
      "source": [
        "X_content, col_tf = get_content_matrix(df_songs)\n",
        "\n",
        "n_items = df_songs[\"track_idx\"].max() + 1\n",
        "n_users = df_inter[\"user_idx\"].max() + 1\n",
        "R, S_collab = build_collaborative_matrix(df_inter, n_items, n_users)\n",
        "\n",
        "# Test\n",
        "seed = df_songs.track_id.iloc[0]\n",
        "hybrid_recommend(seed, X_content, S_collab, α=0.7, k=5)"
      ],
      "metadata": {
        "colab": {
          "base_uri": "https://localhost:8080/"
        },
        "id": "Ug3rCavnEmfI",
        "outputId": "d87a9dff-81e7-476c-f67c-1f68bb2dde97"
      },
      "execution_count": null,
      "outputs": [
        {
          "output_type": "execute_result",
          "data": {
            "text/plain": [
              "['TRGSZLI128F4230F3A',\n",
              " 'TRARVZG128F1497359',\n",
              " 'TRMSIMM128F9316F1D',\n",
              " 'TRKSBMG128F92E2E43',\n",
              " 'TRIOWFB128EF35C9ED']"
            ]
          },
          "metadata": {},
          "execution_count": 59
        }
      ]
    },
    {
      "cell_type": "code",
      "source": [],
      "metadata": {
        "id": "w-szpFarEKiP"
      },
      "execution_count": null,
      "outputs": []
    },
    {
      "cell_type": "code",
      "source": [],
      "metadata": {
        "id": "xZw-KAjeEKkn"
      },
      "execution_count": null,
      "outputs": []
    },
    {
      "cell_type": "code",
      "source": [],
      "metadata": {
        "id": "TNcw3dUMEKnL"
      },
      "execution_count": null,
      "outputs": []
    },
    {
      "cell_type": "code",
      "source": [],
      "metadata": {
        "id": "Ye4nVci8EKqk"
      },
      "execution_count": null,
      "outputs": []
    },
    {
      "cell_type": "code",
      "source": [],
      "metadata": {
        "id": "oHFATL4fELRm"
      },
      "execution_count": null,
      "outputs": []
    }
  ]
}