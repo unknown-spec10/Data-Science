{
  "nbformat": 4,
  "nbformat_minor": 0,
  "metadata": {
    "colab": {
      "provenance": [],
      "gpuType": "T4",
      "include_colab_link": true
    },
    "kernelspec": {
      "name": "python3",
      "display_name": "Python 3"
    },
    "language_info": {
      "name": "python"
    },
    "accelerator": "GPU"
  },
  "cells": [
    {
      "cell_type": "markdown",
      "metadata": {
        "id": "view-in-github",
        "colab_type": "text"
      },
      "source": [
        "<a href=\"https://colab.research.google.com/github/unknown-spec10/Data-Science/blob/main/Tweeter_sentiment_analysis.ipynb\" target=\"_parent\"><img src=\"https://colab.research.google.com/assets/colab-badge.svg\" alt=\"Open In Colab\"/></a>"
      ]
    },
    {
      "cell_type": "code",
      "execution_count": null,
      "metadata": {
        "id": "dDXGkqBxhEwX"
      },
      "outputs": [],
      "source": [
        "import numpy as np\n",
        "import pandas as pd\n",
        "import torch\n",
        "from transformers import BertTokenizer,BertForSequenceClassification,AdamW,get_linear_schedule_with_warmup\n",
        "from torch.utils.data import TensorDataset,DataLoader,random_split\n"
      ]
    },
    {
      "cell_type": "code",
      "source": [
        "from nltk.corpus import stopwords\n",
        "from nltk.stem.porter import PorterStemmer\n",
        "import nltk\n",
        "nltk.download('stopwords')"
      ],
      "metadata": {
        "id": "SUjYqR0LpZjB"
      },
      "execution_count": null,
      "outputs": []
    },
    {
      "cell_type": "code",
      "source": [
        "df=pd.read_csv(\"/content/training.1600000.processed.noemoticon.csv\",encoding=\"ISO-8859-1\",header=None)"
      ],
      "metadata": {
        "id": "msCvEFB8hIVJ"
      },
      "execution_count": null,
      "outputs": []
    },
    {
      "cell_type": "code",
      "source": [
        "short_df=df.sample(500)\n"
      ],
      "metadata": {
        "id": "Xl4WUvjBhIXy"
      },
      "execution_count": null,
      "outputs": []
    },
    {
      "cell_type": "code",
      "source": [
        "short_df.shape"
      ],
      "metadata": {
        "id": "fTuris0WmH4u"
      },
      "execution_count": null,
      "outputs": []
    },
    {
      "cell_type": "code",
      "source": [
        "short_df.to_csv('short_twitter.csv')"
      ],
      "metadata": {
        "id": "3jpF-h9mhIal"
      },
      "execution_count": null,
      "outputs": []
    },
    {
      "cell_type": "code",
      "source": [],
      "metadata": {
        "id": "uwxNjTF5hIdR"
      },
      "execution_count": null,
      "outputs": []
    },
    {
      "cell_type": "markdown",
      "source": [
        "#stating with shorten data"
      ],
      "metadata": {
        "id": "e_wRp7XImTVJ"
      }
    },
    {
      "cell_type": "code",
      "source": [
        "short_df=pd.read_csv('/content/short_twitter.csv',header=None)"
      ],
      "metadata": {
        "id": "QWtPRyojAQyj"
      },
      "execution_count": null,
      "outputs": []
    },
    {
      "cell_type": "code",
      "source": [
        "df=short_df"
      ],
      "metadata": {
        "id": "F4l2ST8yhIf5"
      },
      "execution_count": null,
      "outputs": []
    },
    {
      "cell_type": "code",
      "source": [
        "df.drop(columns=[0],inplace=True)"
      ],
      "metadata": {
        "id": "jokNaL_mA3Cs"
      },
      "execution_count": null,
      "outputs": []
    },
    {
      "cell_type": "code",
      "source": [
        "df.shape"
      ],
      "metadata": {
        "id": "je4S2Gm6BB8c"
      },
      "execution_count": null,
      "outputs": []
    },
    {
      "cell_type": "code",
      "source": [
        "df=df.iloc[1:,:]"
      ],
      "metadata": {
        "id": "e68vEKE0BFHs"
      },
      "execution_count": null,
      "outputs": []
    },
    {
      "cell_type": "code",
      "source": [
        "df.head()"
      ],
      "metadata": {
        "id": "QL3q6VfaAjT9"
      },
      "execution_count": null,
      "outputs": []
    },
    {
      "cell_type": "code",
      "source": [
        "new_df=df[[1,6]]"
      ],
      "metadata": {
        "id": "J-OiIidOhIiu"
      },
      "execution_count": null,
      "outputs": []
    },
    {
      "cell_type": "code",
      "source": [
        "new_df.head()"
      ],
      "metadata": {
        "id": "hZoBIw6InOKB"
      },
      "execution_count": null,
      "outputs": []
    },
    {
      "cell_type": "code",
      "source": [
        "new_df.columns=[\"sentiment\",\"text\"]"
      ],
      "metadata": {
        "id": "dpT9vZBshIlR"
      },
      "execution_count": null,
      "outputs": []
    },
    {
      "cell_type": "code",
      "source": [
        "new_df"
      ],
      "metadata": {
        "id": "PTUe3VdvhIrh"
      },
      "execution_count": null,
      "outputs": []
    },
    {
      "cell_type": "code",
      "source": [],
      "metadata": {
        "id": "XbOvr4Z_n5NE"
      },
      "execution_count": null,
      "outputs": []
    },
    {
      "cell_type": "markdown",
      "source": [
        "#EDA steps"
      ],
      "metadata": {
        "id": "DC47XMU-n7xd"
      }
    },
    {
      "cell_type": "code",
      "source": [
        "new_df['sentiment'].value_counts().plot(kind=\"bar\")"
      ],
      "metadata": {
        "id": "KvalShhpn5Pt"
      },
      "execution_count": null,
      "outputs": []
    },
    {
      "cell_type": "code",
      "source": [
        "new_df['sentiment']=new_df['sentiment'].apply(lambda x : 1 if x==4 else x)"
      ],
      "metadata": {
        "id": "08bI3JVDn5Se"
      },
      "execution_count": null,
      "outputs": []
    },
    {
      "cell_type": "code",
      "source": [
        "all_labels=list(new_df[\"sentiment\"].unique())"
      ],
      "metadata": {
        "id": "2JAUXhCDn5VW"
      },
      "execution_count": null,
      "outputs": []
    },
    {
      "cell_type": "code",
      "source": [
        "all_labels"
      ],
      "metadata": {
        "id": "-vAcfK3ln5YQ"
      },
      "execution_count": null,
      "outputs": []
    },
    {
      "cell_type": "code",
      "source": [],
      "metadata": {
        "id": "MiazqQUhn5av"
      },
      "execution_count": null,
      "outputs": []
    },
    {
      "cell_type": "markdown",
      "source": [
        "#preprocessing on data"
      ],
      "metadata": {
        "id": "38keC9MapAvJ"
      }
    },
    {
      "cell_type": "code",
      "source": [
        "stemmer=PorterStemmer()"
      ],
      "metadata": {
        "id": "cyP19qWApSGL"
      },
      "execution_count": null,
      "outputs": []
    },
    {
      "cell_type": "code",
      "source": [
        "#stopwords.words('english')"
      ],
      "metadata": {
        "id": "kWYHHPBdrK9b"
      },
      "execution_count": null,
      "outputs": []
    },
    {
      "cell_type": "code",
      "source": [
        "def stemming(text):\n",
        "  text=re.sub(\"[^a-zA-Z]\",' ',text)\n",
        "  text=text.lower()\n",
        "  text=text.split(\" \")\n",
        "  #print(text)\n",
        "  modified_text=[]\n",
        "  for i in text:\n",
        "    if i not in stopwords.words('english'):\n",
        "      modified_text.append(stemmer.stem(i))\n",
        "  modified_text=\" \".join(modified_text)\n",
        "  return modified_text\n"
      ],
      "metadata": {
        "id": "6tTe3fs-n5dS"
      },
      "execution_count": null,
      "outputs": []
    },
    {
      "cell_type": "code",
      "source": [
        "stemming(\"I am a good boy Do you know this\")"
      ],
      "metadata": {
        "id": "2QO8Pjc4pGMY"
      },
      "execution_count": null,
      "outputs": []
    },
    {
      "cell_type": "code",
      "source": [
        "new_df.head()"
      ],
      "metadata": {
        "id": "nNnK7rBupGO_"
      },
      "execution_count": null,
      "outputs": []
    },
    {
      "cell_type": "code",
      "source": [
        "new_df['trans_text']=new_df['text'].apply(stemming)"
      ],
      "metadata": {
        "id": "Yb5eDMr8pGRX"
      },
      "execution_count": null,
      "outputs": []
    },
    {
      "cell_type": "code",
      "source": [
        "new_df.head()"
      ],
      "metadata": {
        "id": "hy3blki1pGT4"
      },
      "execution_count": null,
      "outputs": []
    },
    {
      "cell_type": "code",
      "source": [
        "new_df.iloc[2]['trans_text']"
      ],
      "metadata": {
        "id": "RkZIyVb9RDLw"
      },
      "execution_count": null,
      "outputs": []
    },
    {
      "cell_type": "code",
      "source": [],
      "metadata": {
        "id": "MvDpSOJ0RSKP"
      },
      "execution_count": null,
      "outputs": []
    },
    {
      "cell_type": "code",
      "source": [
        "texts=new_df['trans_text'].values\n",
        "labels=new_df['sentiment'].values"
      ],
      "metadata": {
        "id": "7YWRxlh4pGWp"
      },
      "execution_count": null,
      "outputs": []
    },
    {
      "cell_type": "code",
      "source": [
        "labels"
      ],
      "metadata": {
        "id": "KUL4hkkXw9d8"
      },
      "execution_count": null,
      "outputs": []
    },
    {
      "cell_type": "code",
      "source": [],
      "metadata": {
        "id": "ofy9HZJyw9gd"
      },
      "execution_count": null,
      "outputs": []
    },
    {
      "cell_type": "markdown",
      "source": [
        "#Model assignment"
      ],
      "metadata": {
        "id": "eUtJG47TtyWJ"
      }
    },
    {
      "cell_type": "code",
      "source": [
        "tokenizer=BertTokenizer.from_pretrained('bert-base-uncased')"
      ],
      "metadata": {
        "id": "p8_4FlBAtrK9"
      },
      "execution_count": null,
      "outputs": []
    },
    {
      "cell_type": "code",
      "source": [
        "tokenizer.encode_plus(new_df['trans_text'].iloc[0],add_special_tokens = True, # Add '[CLS]' and '[SEP]'\n",
        "                        max_length = 100,           # Pad & truncate all sentences.\n",
        "                        pad_to_max_length = True,\n",
        "                        return_attention_mask = True,   # Construct attn. masks.\n",
        "                        return_tensors = 'pt')"
      ],
      "metadata": {
        "id": "WkPn9pVXtrNv"
      },
      "execution_count": null,
      "outputs": []
    },
    {
      "cell_type": "code",
      "source": [
        "def tokenization_map(sentences,lab=None):\n",
        "  global labels\n",
        "  input_ids=[]\n",
        "  attention_mask=[]\n",
        "  for sentence in sentences:\n",
        "    ids_dict=tokenizer.encode_plus(sentence,add_special_tokens = True, # Add '[CLS]' and '[SEP]'\n",
        "                        max_length = 100,           # Pad & truncate all sentences.\n",
        "                        pad_to_max_length = True,\n",
        "                        return_attention_mask = True,   # Construct attn. masks.\n",
        "                        return_tensors = 'pt',\n",
        "                                   truncation=True)\n",
        "    input_ids.append(ids_dict['input_ids'])\n",
        "    attention_mask.append(ids_dict['attention_mask'])\n",
        "  ids=torch.cat(input_ids,dim=0)\n",
        "  att_mask=torch.cat(attention_mask,dim=0)\n",
        "  labels=torch.tensor(labels)\n",
        "  if lab!=None:\n",
        "    return ids,att_mask,lab\n",
        "  else:\n",
        "    return ids,att_mask\n",
        "\n"
      ],
      "metadata": {
        "id": "OrBXXJRMtrQl"
      },
      "execution_count": null,
      "outputs": []
    },
    {
      "cell_type": "code",
      "source": [
        "input_ids,attention_masks,lebels=tokenization_map(texts,labels)"
      ],
      "metadata": {
        "id": "iikxIgVMtrT2"
      },
      "execution_count": null,
      "outputs": []
    },
    {
      "cell_type": "code",
      "source": [
        "input_ids.shape"
      ],
      "metadata": {
        "id": "RnIHNF3xtrWj"
      },
      "execution_count": null,
      "outputs": []
    },
    {
      "cell_type": "code",
      "source": [
        "attention_masks.shape"
      ],
      "metadata": {
        "id": "6muUd677n5fP"
      },
      "execution_count": null,
      "outputs": []
    },
    {
      "cell_type": "code",
      "source": [
        "labels.shape"
      ],
      "metadata": {
        "id": "hOlyCiwLCXiX"
      },
      "execution_count": null,
      "outputs": []
    },
    {
      "cell_type": "code",
      "source": [],
      "metadata": {
        "id": "Vi96x-T-CX4T"
      },
      "execution_count": null,
      "outputs": []
    },
    {
      "cell_type": "markdown",
      "source": [
        "#converting to tensor DataSet"
      ],
      "metadata": {
        "id": "d_9d2HPPCiVU"
      }
    },
    {
      "cell_type": "code",
      "source": [
        "dataset=TensorDataset(input_ids,attention_masks,labels)"
      ],
      "metadata": {
        "id": "Q3IJsMATCX60"
      },
      "execution_count": null,
      "outputs": []
    },
    {
      "cell_type": "code",
      "source": [
        "len(dataset)"
      ],
      "metadata": {
        "id": "IrR9E95DDUbN"
      },
      "execution_count": null,
      "outputs": []
    },
    {
      "cell_type": "code",
      "source": [
        "##spliting the dataset\n",
        "train_size=int(0.8*len(dataset))\n",
        "val_size=len(dataset)-train_size"
      ],
      "metadata": {
        "id": "gwU8ULY_CX9g"
      },
      "execution_count": null,
      "outputs": []
    },
    {
      "cell_type": "code",
      "source": [
        "train_dataset, val_dataset= random_split(dataset,[train_size,val_size])"
      ],
      "metadata": {
        "id": "38F4FwsuCYAL"
      },
      "execution_count": null,
      "outputs": []
    },
    {
      "cell_type": "code",
      "source": [
        "len(train_dataset)"
      ],
      "metadata": {
        "id": "3WKLXb9XDhaN"
      },
      "execution_count": null,
      "outputs": []
    },
    {
      "cell_type": "code",
      "source": [],
      "metadata": {
        "id": "8S9whkUKDhcu"
      },
      "execution_count": null,
      "outputs": []
    },
    {
      "cell_type": "markdown",
      "source": [
        "#converting to dataLoaders"
      ],
      "metadata": {
        "id": "JSzO3NAZFEZM"
      }
    },
    {
      "cell_type": "code",
      "source": [
        "batch_size=32\n",
        "num_workers=4"
      ],
      "metadata": {
        "id": "3BrdjwW9Dhfb"
      },
      "execution_count": null,
      "outputs": []
    },
    {
      "cell_type": "code",
      "source": [
        "train_dataloader=DataLoader(train_dataset,batch_size=batch_size,shuffle=True,num_workers=num_workers)\n",
        "\n",
        "val_dataloader=DataLoader(val_dataset,batch_size=1,shuffle=True)"
      ],
      "metadata": {
        "id": "VlP1uLJJDhiE"
      },
      "execution_count": null,
      "outputs": []
    },
    {
      "cell_type": "code",
      "source": [],
      "metadata": {
        "id": "2PqoL_yQDhkq"
      },
      "execution_count": null,
      "outputs": []
    },
    {
      "cell_type": "markdown",
      "source": [
        "#enabling GPU"
      ],
      "metadata": {
        "id": "i-jw_xsxGD5F"
      }
    },
    {
      "cell_type": "code",
      "source": [
        "device=torch.device('cuda' if torch.cuda.is_available() else 'cpu')"
      ],
      "metadata": {
        "id": "E7-p6SbcF83b"
      },
      "execution_count": null,
      "outputs": []
    },
    {
      "cell_type": "code",
      "source": [],
      "metadata": {
        "id": "rgm4R53BF85_"
      },
      "execution_count": null,
      "outputs": []
    },
    {
      "cell_type": "markdown",
      "source": [
        "#model assignement for training"
      ],
      "metadata": {
        "id": "xzmxcslsGdeD"
      }
    },
    {
      "cell_type": "code",
      "source": [
        "#help(BertForSequenceClassification.from_pretrained)"
      ],
      "metadata": {
        "id": "hv7YqzhxIDnd"
      },
      "execution_count": null,
      "outputs": []
    },
    {
      "cell_type": "code",
      "source": [
        "model=BertForSequenceClassification.from_pretrained('bert-base-uncased',num_labels=len(labels),\n",
        "                                                    )"
      ],
      "metadata": {
        "id": "j9nYhZxXF882"
      },
      "execution_count": null,
      "outputs": []
    },
    {
      "cell_type": "code",
      "source": [
        "model.to(device)"
      ],
      "metadata": {
        "id": "TcTBfrrhF8_N"
      },
      "execution_count": null,
      "outputs": []
    },
    {
      "cell_type": "code",
      "source": [
        "optimizer=torch.optim.AdamW(model.parameters(),lr=6e-6,eps=1e-8)"
      ],
      "metadata": {
        "id": "MXsupuQOF9CO"
      },
      "execution_count": null,
      "outputs": []
    },
    {
      "cell_type": "code",
      "source": [],
      "metadata": {
        "id": "yNqNjLGcJ297"
      },
      "execution_count": null,
      "outputs": []
    },
    {
      "cell_type": "markdown",
      "source": [
        "#Start Training"
      ],
      "metadata": {
        "id": "1pRcgtSiKQUi"
      }
    },
    {
      "cell_type": "code",
      "source": [
        "num_epoch=10\n",
        "total_steps=num_epoch*batch_size\n",
        "scheduler=get_linear_schedule_with_warmup(optimizer,num_warmup_steps=0,num_training_steps=total_steps)"
      ],
      "metadata": {
        "id": "c4l35QmaKPqa"
      },
      "execution_count": null,
      "outputs": []
    },
    {
      "cell_type": "code",
      "source": [
        "model.train()\n"
      ],
      "metadata": {
        "id": "tAq-15hjJ3At"
      },
      "execution_count": null,
      "outputs": []
    },
    {
      "cell_type": "code",
      "source": [
        "print(len(train_dataloader))"
      ],
      "metadata": {
        "id": "vCxNTWvcLYot"
      },
      "execution_count": null,
      "outputs": []
    },
    {
      "cell_type": "code",
      "source": [
        "total_step=len(train_dataloader)"
      ],
      "metadata": {
        "id": "4zUaG_qeOn5z"
      },
      "execution_count": null,
      "outputs": []
    },
    {
      "cell_type": "code",
      "source": [
        "total_steps"
      ],
      "metadata": {
        "id": "dvSFEZ5zOewj"
      },
      "execution_count": null,
      "outputs": []
    },
    {
      "cell_type": "code",
      "source": [
        "for i in range(num_epoch):\n",
        "  total_loss=0\n",
        "  for id,(ipds,att,label) in enumerate(train_dataloader):\n",
        "    ipds=ipds.to(device)\n",
        "    att=att.to(device)\n",
        "    label=label.to(device)\n",
        "    loss=model(ipds,attention_mask=att,labels=label,token_type_ids=None)[0]## token_type_ids useful for qa tasks\n",
        "    optimizer.zero_grad()\n",
        "    loss.backward()\n",
        "    optimizer.step()\n",
        "    scheduler.step()\n",
        "\n",
        "    total_loss+=loss.item()\n",
        "  print('Epoch: {}, loss: {:.4f}'.format(i+1,total_loss/total_step))"
      ],
      "metadata": {
        "id": "UtREffLtJ1da"
      },
      "execution_count": null,
      "outputs": []
    },
    {
      "cell_type": "markdown",
      "source": [
        "#validation"
      ],
      "metadata": {
        "id": "UT4T-vyCOkWH"
      }
    },
    {
      "cell_type": "code",
      "source": [
        "test_str=new_df.iloc[2]['trans_text']\n",
        "test_str"
      ],
      "metadata": {
        "id": "eMfY9MP2J1gJ"
      },
      "execution_count": null,
      "outputs": []
    },
    {
      "cell_type": "code",
      "source": [
        "test_dict=tokenizer.encode_plus(test_str,add_special_tokens = True, # Add '[CLS]' and '[SEP]'\n",
        "                        max_length = 100,           # Pad & truncate all sentences.\n",
        "                        pad_to_max_length = True,\n",
        "                        return_attention_mask = True,   # Construct attn. masks.\n",
        "                        return_tensors = 'pt',\n",
        "                                   truncation=True)"
      ],
      "metadata": {
        "id": "-a-pXDS1J1jO"
      },
      "execution_count": null,
      "outputs": []
    },
    {
      "cell_type": "code",
      "source": [
        "test_dict"
      ],
      "metadata": {
        "id": "ztn_PeTEJ1mZ"
      },
      "execution_count": null,
      "outputs": []
    },
    {
      "cell_type": "code",
      "source": [],
      "metadata": {
        "id": "YVr99xtkSHtF"
      },
      "execution_count": null,
      "outputs": []
    },
    {
      "cell_type": "code",
      "source": [
        "model.eval()"
      ],
      "metadata": {
        "id": "WQldHZdkR6tH"
      },
      "execution_count": null,
      "outputs": []
    },
    {
      "cell_type": "code",
      "source": [
        "input_id, attention_mask = tokenization_map([test_str])\n",
        "\n",
        "g_label = model(input_id.to(device), token_type_ids=None, attention_mask=attention_mask.to(device))[0]\n",
        "pred = torch.max(g_label, 1)[1][0].item()\n",
        "\n",
        "print('\\n')\n",
        "print(pred)\n",
        "print('Predict: {}'.format(all_labels[pred]))\n",
        "print('GT: {}'.format(all_labels[label]))\n",
        "print('---------------------------------------------------------------------------------------------\\n')"
      ],
      "metadata": {
        "id": "EbPoeJtIR6v9"
      },
      "execution_count": null,
      "outputs": []
    },
    {
      "cell_type": "code",
      "source": [],
      "metadata": {
        "id": "LCSm-C41SEQI"
      },
      "execution_count": null,
      "outputs": []
    },
    {
      "cell_type": "code",
      "source": [],
      "metadata": {
        "id": "o7KApiamSESw"
      },
      "execution_count": null,
      "outputs": []
    },
    {
      "cell_type": "code",
      "source": [],
      "metadata": {
        "id": "z8kwBfDESEVP"
      },
      "execution_count": null,
      "outputs": []
    },
    {
      "cell_type": "code",
      "source": [],
      "metadata": {
        "id": "5lso9dPlSEX2"
      },
      "execution_count": null,
      "outputs": []
    },
    {
      "cell_type": "code",
      "source": [],
      "metadata": {
        "id": "pgS3fShtR6yd"
      },
      "execution_count": null,
      "outputs": []
    }
  ]
}